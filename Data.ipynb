{
 "cells": [
  {
   "cell_type": "code",
   "id": "initial_id",
   "metadata": {
    "collapsed": true,
    "jupyter": {
     "is_executing": true
    },
    "ExecuteTime": {
     "start_time": "2024-11-15T15:18:21.712338Z"
    }
   },
   "source": [
    "from ultralytics import YOLO\n",
    "\n",
    "# Load a model\n",
    "model = YOLO(\"yolo11n.pt\")\n",
    "\n",
    "# Train the model\n",
    "train_results = model.train(\n",
    "    data=\"D:\\Tuda\\SoICT_Hackathon_Vehicle\\Traffic Vehicle Detection-20241114T165505Z-001\\Traffic Vehicle Detection\\coco8.yaml\",  # path to dataset YAML\n",
    "    epochs=2,  # number of training epochs\n",
    "    imgsz=640,  # training image size\n",
    "    device=\"0\",  # device to run on, i.e. device=0 or device=0,1,2,3 or device=cpu\n",
    "    batch=64\n",
    ")\n",
    "\n",
    "# Evaluate model performance on the validation set\n",
    "metrics = model.val()\n",
    "\n",
    "# Perform object detection on an image\n",
    "results = model(r\"D:\\Tuda\\SoICT_Hackathon_Vehicle\\Result\\cam_08_00500_jpg.rf.5ab59b5bcda1d1fad9131385c5d64fdb.jpg\")\n",
    "results[0].show()\n",
    "\n",
    "# Export the model to ONNX format\n",
    "path = model.export(format=\"onnx\")  # return path to exported model"
   ],
   "execution_count": null,
   "outputs": []
  },
  {
   "metadata": {
    "ExecuteTime": {
     "end_time": "2024-11-15T14:35:00.309829Z",
     "start_time": "2024-11-15T14:35:00.291829Z"
    }
   },
   "cell_type": "code",
   "source": "",
   "id": "b2dfa9ee50a9fa9a",
   "execution_count": 12,
   "outputs": []
  },
  {
   "metadata": {},
   "cell_type": "markdown",
   "source": "",
   "id": "b08ce8afbd302ed6"
  },
  {
   "metadata": {
    "ExecuteTime": {
     "start_time": "2024-11-15T14:56:14.467560Z"
    }
   },
   "cell_type": "code",
   "source": [
    "# !nvidia-smi\n",
    "import torch\n",
    "\n",
    "if torch.cuda.is_available():\n",
    "    print(\"CUDA is available. You can run PyTorch on a GPU.\")\n",
    "    print(\"GPU name:\", torch.cuda.get_device_name(0))\n",
    "else:\n",
    "    print(\"CUDA is not available. PyTorch will run on the CPU.\")\n",
    "\n"
   ],
   "id": "f333e12fd7edcdf1",
   "execution_count": null,
   "outputs": []
  },
  {
   "metadata": {
    "ExecuteTime": {
     "end_time": "2024-11-15T07:53:31.038682Z",
     "start_time": "2024-11-15T07:53:01.826906Z"
    }
   },
   "cell_type": "code",
   "source": [
    "import os\n",
    "import shutil\n",
    "import random\n",
    "from tqdm import tqdm\n",
    "\n",
    "# Đường dẫn đến thư mục chứa tệp .txt và .jpg\n",
    "input_folder_txt = r'D:\\Tuda\\SoICT_Hackathon_Vehicle\\Traffic Vehicle Detection-20241114T165505Z-001\\Traffic Vehicle Detection\\NewDataDayTime\\label'\n",
    "input_folder_img = r'D:\\Tuda\\SoICT_Hackathon_Vehicle\\Traffic Vehicle Detection-20241114T165505Z-001\\Traffic Vehicle Detection\\NewDataDayTime\\img'\n",
    "output_folder = r'D:\\Tuda\\SoICT_Hackathon_Vehicle\\datasets\\coco8'\n",
    "\n",
    "# Tạo các thư mục train và val cho labels và train nếu chưa có\n",
    "os.makedirs(os.path.join(output_folder, 'labels', 'train'), exist_ok=True)\n",
    "os.makedirs(os.path.join(output_folder, 'labels', 'val'), exist_ok=True)\n",
    "os.makedirs(os.path.join(output_folder, 'train', 'train'), exist_ok=True)\n",
    "os.makedirs(os.path.join(output_folder, 'train', 'val'), exist_ok=True)\n",
    "\n",
    "# Lấy danh sách các tệp .txt trong thư mục đầu vào\n",
    "txt_files = [f for f in os.listdir(input_folder_txt) if f.endswith('.txt')]\n",
    "\n",
    "# Xáo trộn danh sách tệp để phân chia ngẫu nhiên\n",
    "random.shuffle(txt_files)\n",
    "\n",
    "# Tỷ lệ phân chia: 80% train, 20% val\n",
    "split_ratio = 0.8\n",
    "split_index = int(len(txt_files) * split_ratio)\n",
    "\n",
    "# Phân chia các tệp vào train và val\n",
    "train_files = txt_files[:split_index]\n",
    "val_files = txt_files[split_index:]\n",
    "\n",
    "# Hàm sao chép tệp .txt và tệp .jpg tương ứng\n",
    "def copy_files(file_list, subset):\n",
    "    for file in tqdm(file_list):\n",
    "        # Sao chép tệp .txt\n",
    "        txt_path = os.path.join(input_folder_txt, file)\n",
    "        shutil.copy(txt_path, os.path.join(output_folder, 'labels', subset, file))\n",
    "        \n",
    "        # Sao chép tệp .jpg tương ứng nếu tồn tại\n",
    "        img_name = file.replace('.txt', '.jpg')\n",
    "        img_path = os.path.join(input_folder_img, img_name)\n",
    "        if os.path.exists(img_path):\n",
    "            shutil.copy(img_path, os.path.join(output_folder, 'train', subset, img_name))\n",
    "\n",
    "# Sao chép tệp vào các thư mục tương ứng\n",
    "copy_files(train_files, 'train')\n",
    "copy_files(val_files, 'val')\n",
    "\n",
    "print(\"Phân chia tệp .txt và .jpg hoàn tất!\")\n"
   ],
   "id": "215d94ee0a36c08b",
   "execution_count": 27,
   "outputs": []
  },
  {
   "metadata": {
    "jupyter": {
     "is_executing": true
    },
    "ExecuteTime": {
     "start_time": "2024-11-15T15:14:48.753643Z"
    }
   },
   "cell_type": "code",
   "source": [
    "# !nvidia-smi\n",
    "import torch\n",
    "\n",
    "if torch.cuda.is_available():\n",
    "    print(\"CUDA is available. You can run PyTorch on a GPU.\")\n",
    "    print(\"GPU name:\", torch.cuda.get_device_name(0))\n",
    "else:\n",
    "    print(\"CUDA is not available. PyTorch will run on the CPU.\")\n",
    "\n"
   ],
   "id": "dfd24a8cc0fdc75f",
   "execution_count": null,
   "outputs": []
  },
  {
   "metadata": {
    "ExecuteTime": {
     "end_time": "2024-11-15T01:51:07.576115Z",
     "start_time": "2024-11-15T01:51:07.561116Z"
    }
   },
   "cell_type": "code",
   "source": ".",
   "id": "44d66b5daebe4dd4",
   "execution_count": 9,
   "outputs": []
  },
  {
   "metadata": {},
   "cell_type": "markdown",
   "source": "",
   "id": "feb41fbedede56f3"
  },
  {
   "metadata": {},
   "cell_type": "code",
   "execution_count": null,
   "source": "",
   "id": "374aa18a41269e4a",
   "outputs": []
  }
 ],
 "metadata": {
  "kernelspec": {
   "display_name": "Python 3",
   "language": "python",
   "name": "python3"
  },
  "language_info": {
   "codemirror_mode": {
    "name": "ipython",
    "version": 2
   },
   "file_extension": ".py",
   "mimetype": "text/x-python",
   "name": "python",
   "nbconvert_exporter": "python",
   "pygments_lexer": "ipython2",
   "version": "2.7.6"
  }
 },
 "nbformat": 4,
 "nbformat_minor": 5
}
