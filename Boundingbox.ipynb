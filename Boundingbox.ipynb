{
 "cells": [
  {
   "cell_type": "code",
   "id": "initial_id",
   "metadata": {
    "collapsed": true,
    "ExecuteTime": {
     "end_time": "2024-11-15T16:06:28.045388Z",
     "start_time": "2024-11-15T16:05:31.427364Z"
    }
   },
   "source": [
    "import os\n",
    "import cv2\n",
    "\n",
    "data_folder = 'Traffic Vehicle Detection-20241114T165505Z-001/Traffic Vehicle Detection/train_20241023/nighttime' \n",
    "output_folder = 'ProcessAfterTrainNightTime' \n",
    "os.makedirs(output_folder, exist_ok=True)  # Tạo folder nếu chưa tồn tại\n",
    "            \n",
    "            # Lấy danh sách tất cả các file trong folder dữ liệu\n",
    "all_files = os.listdir(data_folder)\n",
    "            \n",
    "            # Lặp qua tất cả các file để tìm file ảnh PNG và file TXT tương ứng\n",
    "for file in all_files:\n",
    "                if file.endswith('.jpg'):  # Kiểm tra file có đuôi .png không\n",
    "                    # Lấy tên file TXT tương ứng (cùng tên với file ảnh)\n",
    "                    txt_file = file.replace('.jpg', '.txt')\n",
    "                    \n",
    "                    if txt_file in all_files:  # Kiểm tra file TXT có tồn tại không\n",
    "                        # Đọc file ảnh PNG\n",
    "                        image_path = os.path.join(data_folder, file)\n",
    "                        img = cv2.imread(image_path)  # Mở ảnh bằng OpenCV\n",
    "                        height, width, _ = img.shape  # Lấy kích thước ảnh (cao, rộng)\n",
    "            \n",
    "                        # Đọc file TXT\n",
    "                        txt_path = os.path.join(data_folder, txt_file)\n",
    "                        with open(txt_path, 'r') as f:\n",
    "                            annotations = f.readlines()  # Đọc tất cả các dòng trong file TXT\n",
    "                        \n",
    "                        # Xử lý từng dòng annotation trong file TXT\n",
    "                        for annotation in annotations:\n",
    "                            parts = annotation.strip().split()  # Chia dòng thành các phần: nhãn, x, y, w, h\n",
    "                            label, x, y, w, h = map(float, parts)  # Chuyển tất cả thành số thực\n",
    "                            \n",
    "                            # Chuyển tọa độ YOLO (tâm, tỷ lệ) sang tọa độ góc trên-trái và dưới-phải\n",
    "                            x_center = int(x * width)  # Tọa độ x của tâm hộp\n",
    "                            y_center = int(y * height)  # Tọa độ y của tâm hộp\n",
    "                            box_width = int(w * width)  # Chiều rộng của hộp\n",
    "                            box_height = int(h * height)  # Chiều cao của hộp\n",
    "                            \n",
    "                            # Tính tọa độ góc trên-trái (x1, y1) và góc dưới-phải (x2, y2)\n",
    "                            x1 = int(x_center - box_width / 2)\n",
    "                            y1 = int(y_center - box_height / 2)\n",
    "                            x2 = int(x_center + box_width / 2)\n",
    "                            y2 = int(y_center + box_height / 2)\n",
    "                            \n",
    "                            # Vẽ hình chữ nhật lên ảnh với OpenCV\n",
    "                            color = (0, 255, 0)  # Màu xanh lá cây cho khung\n",
    "                            thickness = 2  # Độ dày của đường vẽ\n",
    "                            cv2.rectangle(img, (x1, y1), (x2, y2), color, thickness)  # Vẽ khung\n",
    "                            \n",
    "                            # Tuỳ chọn: thêm nhãn (số) lên ảnh\n",
    "                            cv2.putText(img, f'Label {int(label)}', (x1, y1 - 10), \n",
    "                                        cv2.FONT_HERSHEY_SIMPLEX, 0.5, color, 1)  # Vẽ nhãn phía trên hộp\n",
    "                        \n",
    "                        # Lưu ảnh đã xử lý vào folder mới\n",
    "                        output_path = os.path.join(output_folder, file)\n",
    "                        cv2.imwrite(output_path, img)  # Ghi ảnh đã chỉnh sửa vào file\n",
    "\n",
    "print(f\"Đã xử lý xong! Ảnh đã được lưu vào: {output_folder}\")\n"
   ],
   "execution_count": 2,
   "outputs": []
  },
  {
   "metadata": {
    "ExecuteTime": {
     "end_time": "2024-11-15T15:58:00.535703Z",
     "start_time": "2024-11-15T15:58:00.522703Z"
    }
   },
   "cell_type": "code",
   "source": "",
   "id": "6dd03b005a5a2d6b",
   "execution_count": 1,
   "outputs": []
  },
  {
   "metadata": {},
   "cell_type": "code",
   "execution_count": null,
   "source": "",
   "id": "f9aefa4faeed4b6f",
   "outputs": []
  }
 ],
 "metadata": {
  "kernelspec": {
   "display_name": "Python 3",
   "language": "python",
   "name": "python3"
  },
  "language_info": {
   "codemirror_mode": {
    "name": "ipython",
    "version": 2
   },
   "file_extension": ".py",
   "mimetype": "text/x-python",
   "name": "python",
   "nbconvert_exporter": "python",
   "pygments_lexer": "ipython2",
   "version": "2.7.6"
  }
 },
 "nbformat": 4,
 "nbformat_minor": 5
}
