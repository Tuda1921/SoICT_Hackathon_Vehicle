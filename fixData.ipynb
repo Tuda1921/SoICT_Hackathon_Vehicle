{
 "cells": [
  {
   "cell_type": "code",
   "id": "initial_id",
   "metadata": {
    "collapsed": true,
    "ExecuteTime": {
     "end_time": "2024-11-15T07:28:56.188450Z",
     "start_time": "2024-11-15T07:28:48.536673Z"
    }
   },
   "source": [
    "import os\n",
    "import shutil\n",
    "\n",
    "# Define the source directory\n",
    "source_dir = 'Traffic Vehicle Detection-20241114T165505Z-001/Traffic Vehicle Detection/train_20241023/daytime'\n",
    "\n",
    "# Define the target directories\n",
    "data = 'Traffic Vehicle Detection-20241114T165505Z-001/Traffic Vehicle Detection/NewDataDayTime/img'\n",
    "label_data = 'Traffic Vehicle Detection-20241114T165505Z-001/Traffic Vehicle Detection/NewDataDayTime/label'\n",
    "\n",
    "os.makedirs(data, exist_ok=True)\n",
    "os.makedirs(label_data, exist_ok=True)\n",
    "\n",
    "# Iterate over the files in the source directory\n",
    "for filename in os.listdir(source_dir):\n",
    "    file_path = os.path.join(source_dir, filename)\n",
    "    \n",
    "    if os.path.isfile(file_path):\n",
    "        if filename.endswith('.txt'):\n",
    "            shutil.copy(file_path, os.path.join(label_data, filename))\n",
    "        elif filename.endswith('.jpg'):\n",
    "            shutil.copy(file_path, os.path.join(data, filename))"
   ],
   "outputs": [],
   "execution_count": 6
  },
  {
   "metadata": {
    "ExecuteTime": {
     "end_time": "2024-11-15T08:07:12.923018Z",
     "start_time": "2024-11-15T08:07:11.694066Z"
    }
   },
   "cell_type": "code",
   "source": [
    "import numpy as np\n",
    "import os\n",
    "import shutil\n",
    "label_data = 'Traffic Vehicle Detection-20241114T165505Z-001/Traffic Vehicle Detection/NewDataNightTime/label'\n",
    "\n",
    "# Iterate over the files in the label directory\n",
    "for filename in os.listdir(label_data):\n",
    "    file_path = os.path.join(label_data, filename)\n",
    "    \n",
    "    if os.path.isfile(file_path) and filename.endswith('.txt'):\n",
    "        # Read the content of the file\n",
    "        with open(file_path, 'r') as file:\n",
    "            content = file.readlines()\n",
    "        \n",
    "        # Convert the content to a numpy array\n",
    "        content = [list(map(float, line.split())) for line in content]\n",
    "        content = np.array(content)\n",
    "        \n",
    "        # Replace the content as needed\n",
    "        content[:, 0] = content[:, 0].astype(int)\n",
    "\n",
    "        # Write the modified content back to the file\n",
    "        with open(file_path, 'w') as file:\n",
    "            for line in content:\n",
    "                file.write(' '.join(map(str, line)) + '\\n')\n",
    "                \n",
    "\n",
    "            \n"
   ],
   "id": "f76971e753b51c52",
   "outputs": [],
   "execution_count": 8
  },
  {
   "metadata": {},
   "cell_type": "code",
   "outputs": [],
   "execution_count": null,
   "source": [
    "results = [0.1, 0.2, 0.3, 0.4, 0.5]\n",
    "# Define the output file\n",
    "output_file = 'results.txt'\n",
    "\n",
    "# Write the results to the output file\n",
    "with open(output_file, 'w') as file:\n",
    "    file.write(' '.join(map(str, results)))  "
   ],
   "id": "aebd682d96c3ce42"
  },
  {
   "metadata": {},
   "cell_type": "code",
   "outputs": [],
   "execution_count": null,
   "source": [
    "import numpy as np\n",
    "# Mix Data Day and Night \n",
    "import os\n",
    "import shutil\n",
    "DataMix = 'NewDataMix'\n",
    "# Define the target directories\n",
    "dataNight = 'NewDataNightTime\\Img_label'\n",
    "dataDay = 'NewDataDayTime\\label'\n",
    "\n",
    "os.makedirs(dataNight, exist_ok=True)\n",
    "os.makedirs(dataDay, exist_ok=True)\n",
    "# Copy data from Data Day to Data Mix\n",
    "\n",
    "# for filename in os.listdir(dataDay):\n",
    "#     file_path = os.path.join(dataDay, filename)\n",
    "    \n",
    "#     if os.path.isfile(file_path):\n",
    "#         if filename.endswith('.jpg'):\n",
    "#             shutil.copy(file_path, os.path.join(DataMix, filename))\n",
    "# Copy data from Data Night to Data Mix\n",
    "for filename in os.listdir(dataNight):\n",
    "    file_path = os.path.join(dataNight, filename)\n",
    "    \n",
    "    if os.path.isfile(file_path):\n",
    "        if filename.endswith('.jpg'):\n",
    "            shutil.copy(file_path, os.path.join(DataMix, filename))\n",
    "\n"
   ],
   "id": "85dea7ff740cc762"
  }
 ],
 "metadata": {
  "kernelspec": {
   "display_name": "Python 3",
   "language": "python",
   "name": "python3"
  },
  "language_info": {
   "codemirror_mode": {
    "name": "ipython",
    "version": 2
   },
   "file_extension": ".py",
   "mimetype": "text/x-python",
   "name": "python",
   "nbconvert_exporter": "python",
   "pygments_lexer": "ipython2",
   "version": "2.7.6"
  }
 },
 "nbformat": 4,
 "nbformat_minor": 5
}
